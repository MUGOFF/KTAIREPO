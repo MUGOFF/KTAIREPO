{
 "cells": [
  {
   "cell_type": "code",
   "execution_count": null,
   "metadata": {},
   "outputs": [],
   "source": [
    "# 상위 5개 행 조회\n",
    "data.head()\n",
    "# PercentSalaryHike 열만 조회\n",
    "data['PercentSalaryHike']\n",
    "#  Age, DistanceFromHome, Gender열만 조회\n",
    "data[['Age','DistanceFromHome','Gender']]\n",
    "# Age, DistanceFromHome, Gender열만 DistanceFromHome 열 기준으로 내림차순 정렬해서 조회\n",
    "data[['Age','DistanceFromHome','Gender']].sort_values(by='DistanceFromHome',axis=0,ascending=False)"
   ]
  },
  {
   "cell_type": "code",
   "execution_count": null,
   "metadata": {},
   "outputs": [],
   "source": [
    "#종합실습\n",
    "# 라이브러리 불러오기\n",
    "import pandas as pd\n",
    "# 파일 읽어오기\n",
    "titanic = pd.read_csv('https://raw.githubusercontent.com/DA4BAM/dataset/master/titanic_simple.csv')\n",
    "\n",
    "titanic['Name']\n",
    "\n",
    "titanic[['Name','Age','Sex']]\n",
    "\n",
    "titanic[['Name','Age','Sex']].head(10)\n",
    "\n",
    "titanic.loc[titanic['Age']>70]\n",
    "\n",
    "Fare_mean=titanic['Fare'].describe()['mean']\n",
    "print(titanic['Fare'].describe())\n",
    "print(Fare_mean)\n",
    "\n",
    "titanic.loc[titanic['Fare']<Fare_mean]\n",
    "\n",
    "titanic.loc[titanic['Embarked'].isin(['Southhampton','Queenstown'])]\n",
    "\n",
    "titanic.loc[(titanic['Sex']=='male')&(titanic['Age'].between(10,19,inclusive='left')),['Fare']].mean()"
   ]
  },
  {
   "cell_type": "markdown",
   "metadata": {},
   "source": [
    "#################################"
   ]
  },
  {
   "cell_type": "code",
   "execution_count": null,
   "metadata": {},
   "outputs": [],
   "source": [
    "# 데이터 읽어오기\n",
    "temp = pd.read_csv('https://raw.githubusercontent.com/DA4BAM/dataset/master/airquality_simple.csv')  \n",
    "\n",
    "# 상위 5개 확인\n",
    "\n",
    "temp.head(5)\n",
    "\n",
    "temp.groupby(['Month'])[['Ozone','Wind','Temp']].mean()\n",
    "\n",
    "print(temp.groupby(['Month'])[['Ozone','Wind','Temp']].min())\n",
    "print(temp.groupby(['Month'],as_index=False)['Ozone','Wind','Temp'].max())\n",
    "print(temp.groupby(['Month'])[['Ozone','Wind','Temp']].std())"
   ]
  },
  {
   "cell_type": "code",
   "execution_count": null,
   "metadata": {},
   "outputs": [],
   "source": [
    "#종합실습\n",
    "# 라이브러리 불러오기\n",
    "import pandas as pd\n",
    "# 파일 읽어오기\n",
    "titanic = pd.read_csv('https://raw.githubusercontent.com/DA4BAM/dataset/master/titanic_simple.csv')\n",
    "\n",
    "titanic['Fare'].median()\n",
    "\n",
    "titanic.groupby(['Embarked'])[['Fare']].mean()\n",
    "\n",
    "tmp=titanic.groupby(['Embarked','Sex'])[['Fare','Age']].mean()\n",
    "tmp\n",
    "\n",
    "# 프랑스가 영국보다 비싸다\n",
    "\n",
    "tmp=titanic.groupby(['Pclass','Survived'])[['Age','Fare']].agg(['min','max','mean','std'])\n",
    "tmp\n",
    "\n",
    "tmp.reset_index()"
   ]
  },
  {
   "cell_type": "markdown",
   "metadata": {},
   "source": [
    "######################################"
   ]
  },
  {
   "cell_type": "code",
   "execution_count": null,
   "metadata": {},
   "outputs": [],
   "source": [
    "data['JobSat'].value_counts()\n",
    "\n",
    "data['JobSat2']=np.where(data['JobSat']<3,'unsat','sat')\n",
    "data.head(10)\n",
    "\n",
    "data['Diff_Income']=data['M_Income']-data['Income_LY']\n",
    "display(data.head())"
   ]
  },
  {
   "cell_type": "code",
   "execution_count": null,
   "metadata": {},
   "outputs": [],
   "source": [
    "data.drop(['PctSalHike','TotWY'],axis=1,inplace=False)\n",
    "\n",
    "data['Marital'].map({'Single':0, 'Married':1, 'Divorced':2})\n",
    "\n"
   ]
  },
  {
   "cell_type": "code",
   "execution_count": null,
   "metadata": {},
   "outputs": [],
   "source": [
    "#종합실습\n",
    "# 라이브러리 불러오기\n",
    "import pandas as pd\n",
    "# 파일 읽어오기\n",
    "path = 'https://bit.ly/TitanicFile'\n",
    "titanic = pd.read_csv(path)\n",
    "\n",
    "titanic.head(5)\n",
    "\n",
    "# 4-1) PassengerId, Name, Ticket, Cabin 열 삭제\n",
    "titanic.drop(['PassengerId', 'Name', 'Ticket', 'Cabin'],axis=1, inplace=True)\n",
    "display(titanic.head(3))\n",
    "\n",
    "# 4-2) 열 이름 변경: Sex --> Male\n",
    "titanic.rename(columns={'Sex':'Male'},inplace=True)\n",
    "display(titanic.head(3))\n",
    "\n",
    "# 4-3) Male 열 값 변경: male --> 1, female --> 0\n",
    "titanic['Male']=np.where(titanic['Male']=='male',1,0)\n",
    "display(titanic.head(3))\n",
    "\n",
    "# 4-4) Family = SibSp + Parch\n",
    "titanic['Family']= titanic['SibSp']+titanic['Parch']\n",
    "display(titanic.head(3))\n",
    "\n",
    "# 4-5) SibSp, Parch 열 삭제\n",
    "titanic.drop(['SibSp', 'Parch'], axis=1, inplace=True)\n",
    "display(titanic.head(3))\n",
    "\n",
    "# 4-6) 확인\n",
    "display(titanic.head(3))\n",
    "\n",
    "binage=[0,10,20,30,40,50,60,70,80,np.inf]\n",
    "titanic['AgeName']=pd.cut(titanic['Age'], right=False, bins = binage, labels={'유아','10대','20대','30대','40대','50대','60대','70대','80대'})\n",
    "titanic.head(10)"
   ]
  },
  {
   "cell_type": "markdown",
   "metadata": {},
   "source": [
    "###########################################"
   ]
  },
  {
   "cell_type": "code",
   "execution_count": null,
   "metadata": {},
   "outputs": [],
   "source": [
    "x=list(range(1,11))\n",
    "y=[2,5,7,8,5,6,4,8,7,6]\n",
    "plt.plot(x,y)\n",
    "\n",
    "plt.plot('date','item3',data=data)\n",
    "plt.xticks(rotation=33)\n",
    "plt.show()"
   ]
  },
  {
   "cell_type": "code",
   "execution_count": null,
   "metadata": {},
   "outputs": [],
   "source": [
    "#차트 생성까지만"
   ]
  }
 ],
 "metadata": {
  "kernelspec": {
   "display_name": "Python 3.9.13 64-bit",
   "language": "python",
   "name": "python3"
  },
  "language_info": {
   "name": "python",
   "version": "3.9.13"
  },
  "orig_nbformat": 4,
  "vscode": {
   "interpreter": {
    "hash": "cf92aa13fedf815d5c8dd192b8d835913fde3e8bc926b2a0ad6cc74ef2ba3ca2"
   }
  }
 },
 "nbformat": 4,
 "nbformat_minor": 2
}
