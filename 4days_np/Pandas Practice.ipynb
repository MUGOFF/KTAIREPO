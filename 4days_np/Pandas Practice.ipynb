{
 "cells": [
  {
   "cell_type": "code",
   "execution_count": null,
   "metadata": {},
   "outputs": [],
   "source": [
    "# 라이브러리 불러오기\n",
    "import pandas as pd\n",
    "\n",
    "# 데이터 읽어오기\n",
    "path2='https://raw.githubusercontent.com/DA4BAM/dataset/master/Attrition_simple2.CSV'\n",
    "data2=pd.read_csv(path2)\n",
    "\n",
    "# 상위 5개 확인\n",
    "data2.head(5)"
   ]
  },
  {
   "cell_type": "markdown",
   "metadata": {},
   "source": [
    "#############################"
   ]
  },
  {
   "cell_type": "code",
   "execution_count": null,
   "metadata": {},
   "outputs": [],
   "source": [
    "# 데이터 읽어오기\n",
    "import pandas as pd\n",
    "pathair = 'https://raw.githubusercontent.com/DA4BAM/dataset/master/airquality_simple.csv'\n",
    "air= pd.read_csv(pathair)\n",
    "\n",
    "# 상위 데이터 확인\n",
    "air.head(10)\n",
    "\n",
    "# 크기 확인\n",
    "air.shape\n",
    "\n",
    "# 열 이름 확인\n",
    "air.columns\n",
    "\n",
    "# 열 자료형, 값 개수 확인\n",
    "air.info()\n",
    "\n",
    "# 기초통계정보 확인\n",
    "air.describe()"
   ]
  },
  {
   "cell_type": "code",
   "execution_count": null,
   "metadata": {},
   "outputs": [],
   "source": [
    "# 데이터 읽어오기\n",
    "import pandas as pd\n",
    "pathair2 = 'https://raw.githubusercontent.com/DA4BAM/dataset/master/airquality_simple.csv'\n",
    "air2= pd.read_csv(pathair)\n",
    "\n",
    "# 내림차순 정렬\n",
    "air2.sort_values(by='Ozone',ascending=False)\n",
    "\n",
    "# 오름차순 정렬\n",
    "air2.sort_values('Temp')\n",
    "\n",
    "# 오름차순 정렬\n",
    "air2.sort_values('Wind',False).head(10)\n",
    "\n",
    "type(data['Age'])"
   ]
  },
  {
   "cell_type": "code",
   "execution_count": null,
   "metadata": {},
   "outputs": [],
   "source": [
    "# 데이터 읽어오기\n",
    "path = 'https://raw.githubusercontent.com/DA4BAM/dataset/master/airquality_simple.csv'\n",
    "air = pd.read_csv(path)\n",
    "air.head()\n",
    "\n",
    "air['Ozone'].max()\n",
    "\n",
    "air[['Temp','Wind']].min()"
   ]
  },
  {
   "cell_type": "code",
   "execution_count": null,
   "metadata": {},
   "outputs": [],
   "source": [
    "#종합실습\n",
    "# 라이브러리 불러오기\n",
    "import pandas as pd\n",
    "# 파일 읽어오기\n",
    "titanic = pd.read_csv('https://raw.githubusercontent.com/DA4BAM/dataset/master/titanic_simple.csv')\n",
    "# 상위 10행 출력\n",
    "titanic.head()\n",
    "# 크기 확인\n",
    "titanic.shape\n",
    "\n",
    "titanic.dtypes\n",
    "# 열 정보 확인\n",
    "titanic.info()\n",
    "# 기초통계정보 확인\n",
    "titanic.describe()\n",
    "# 고유값 개수 확인\n",
    "titanic.value_counts(['Embarked','Pclass'])\n",
    "\n",
    "titanic[['Age','Fare']].max()\n",
    "\n",
    "titanic.sort_values('Fare',ascending=False).head(10)"
   ]
  }
 ],
 "metadata": {
  "kernelspec": {
   "display_name": "Python 3.9.13 64-bit",
   "language": "python",
   "name": "python3"
  },
  "language_info": {
   "name": "python",
   "version": "3.9.13"
  },
  "orig_nbformat": 4,
  "vscode": {
   "interpreter": {
    "hash": "cf92aa13fedf815d5c8dd192b8d835913fde3e8bc926b2a0ad6cc74ef2ba3ca2"
   }
  }
 },
 "nbformat": 4,
 "nbformat_minor": 2
}
